{
 "cells": [
  {
   "cell_type": "code",
   "execution_count": 9,
   "metadata": {},
   "outputs": [
    {
     "name": "stdout",
     "output_type": "stream",
     "text": [
      "Hello\n",
      "I am mahim\n",
      "I read in diploma in engineering\n",
      "I am 20 years old\n",
      "I want to be a machine learning engineer\n"
     ]
    }
   ],
   "source": [
    "def read_file(filename):\n",
    "    with open(filename, 'r') as file:\n",
    "        for line in file:\n",
    "            print(line.strip())\n",
    "\n",
    "# Test\n",
    "read_file('samplx.txt')"
   ]
  },
  {
   "cell_type": "code",
   "execution_count": 17,
   "metadata": {},
   "outputs": [],
   "source": [
    "def write_file(lines,filename):\n",
    "    with open(filename, 'w') as file:\n",
    "        for line in lines:\n",
    "            file.write(line + '\\n')\n",
    "write_file(['hello world'],'output.txt')"
   ]
  },
  {
   "cell_type": "code",
   "execution_count": 22,
   "metadata": {},
   "outputs": [],
   "source": [
    "def copy_file(source,destinition):\n",
    "    with open(source,'r') as src:\n",
    "        with open(destinition,\"w\") as dest:\n",
    "            dest.write(src.read())\n",
    "copy_file(\"samplx.txt\",\"output.txt\")"
   ]
  },
  {
   "cell_type": "code",
   "execution_count": 26,
   "metadata": {},
   "outputs": [],
   "source": [
    "def append_file(txt,filename):\n",
    "    with open(filename,\"a\") as file:\n",
    "        file.write(txt + '\\n')\n",
    "append_file(\"this is new file entry\",\"log.txt\")"
   ]
  },
  {
   "cell_type": "code",
   "execution_count": 31,
   "metadata": {},
   "outputs": [
    {
     "data": {
      "text/plain": [
       "23"
      ]
     },
     "execution_count": 31,
     "metadata": {},
     "output_type": "execute_result"
    }
   ],
   "source": [
    "def word_counter(filename):\n",
    "    with open(filename,\"r\") as file:\n",
    "        text = file.read()\n",
    "        words = text.split()\n",
    "        return len(words)\n",
    "word_counter('samplx.txt')"
   ]
  },
  {
   "cell_type": "code",
   "execution_count": 33,
   "metadata": {},
   "outputs": [],
   "source": [
    "def replace_word(filename,old_word,new_word):\n",
    "    with open(filename,'r') as file:\n",
    "        text = file.read()\n",
    "    new_text = text.replace(old_word,new_word)\n",
    "    with open (filename,'w') as file:\n",
    "        file.write(new_text)\n",
    "replace_word('samplx.txt',\"mahim\",\"mahim_hassan\")"
   ]
  },
  {
   "cell_type": "code",
   "execution_count": 38,
   "metadata": {},
   "outputs": [
    {
     "name": "stdout",
     "output_type": "stream",
     "text": [
      "I want to be a machine learning engineer\n",
      "I am 20 years old\n",
      "I read in diploma in engineering\n",
      "I am mahim_hassan_hassan\n",
      "Hello\n"
     ]
    }
   ],
   "source": [
    "def revarsed_line(filename):\n",
    "    with open(filename,'r') as file:\n",
    "        lines = file.readlines()\n",
    "        for line in reversed(lines):\n",
    "            print(line.strip())\n",
    "revarsed_line(\"samplx.txt\")"
   ]
  },
  {
   "cell_type": "code",
   "execution_count": 3,
   "metadata": {},
   "outputs": [
    {
     "data": {
      "text/plain": [
       "(5, 23, 124)"
      ]
     },
     "execution_count": 3,
     "metadata": {},
     "output_type": "execute_result"
    }
   ],
   "source": [
    "def char_counter(filename):\n",
    "    with open(filename,\"r\") as file:\n",
    "        lines = file.readlines()\n",
    "        words = sum(len(line.split())for line in lines)\n",
    "        charecters = sum(len(line)for line in lines)\n",
    "        return len(lines),words,charecters\n",
    "char_counter(\"samplx.txt\")\n"
   ]
  },
  {
   "cell_type": "code",
   "execution_count": 7,
   "metadata": {},
   "outputs": [],
   "source": [
    "def marged_text(filelist,outputfile):\n",
    "    with open(outputfile,'w') as outfile:\n",
    "        for fname in filelist:\n",
    "            with open(fname,'r') as infile:\n",
    "                outfile.write(infile.read() + '\\n')\n",
    "marged_text([\"log.txt\",\"samplx.txt\"],'marged_text')"
   ]
  },
  {
   "cell_type": "code",
   "execution_count": 11,
   "metadata": {},
   "outputs": [],
   "source": [
    "def split_file(filename, lines_per_file):\n",
    "    with open(filename, 'r') as file:\n",
    "        lines = file.readlines()\n",
    "    for i in range(0, len(lines), lines_per_file):\n",
    "        with open(f'{filename}_part{i//lines_per_file + 1}.txt', 'w') as part_file:\n",
    "            part_file.writelines(lines[i:i + lines_per_file])\n",
    "split_file('log.txt', 100)"
   ]
  },
  {
   "cell_type": "code",
   "execution_count": 22,
   "metadata": {},
   "outputs": [],
   "source": [
    "import datetime\n",
    "\n",
    "def log_message(message, filename='activity.log'):\n",
    "    timestamp = datetime.datetime.now().isoformat()\n",
    "    with open(filename, 'a') as file:\n",
    "        file.write(f'[{timestamp}] {message}\\n')\n",
    "\n",
    "# Test\n",
    "log_message('This is a log message.')"
   ]
  },
  {
   "cell_type": "code",
   "execution_count": null,
   "metadata": {},
   "outputs": [],
   "source": []
  }
 ],
 "metadata": {
  "kernelspec": {
   "display_name": "base",
   "language": "python",
   "name": "python3"
  },
  "language_info": {
   "codemirror_mode": {
    "name": "ipython",
    "version": 3
   },
   "file_extension": ".py",
   "mimetype": "text/x-python",
   "name": "python",
   "nbconvert_exporter": "python",
   "pygments_lexer": "ipython3",
   "version": "3.12.4"
  }
 },
 "nbformat": 4,
 "nbformat_minor": 2
}
