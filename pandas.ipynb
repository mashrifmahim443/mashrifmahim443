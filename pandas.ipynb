{
 "cells": [
  {
   "cell_type": "code",
   "execution_count": 6,
   "metadata": {},
   "outputs": [
    {
     "name": "stdout",
     "output_type": "stream",
     "text": [
      "original dataframe\n",
      "    A   B   C   D\n",
      "0  10   5  53  13\n",
      "1  58  32  10  70\n",
      "2  35  26  57  28\n",
      "3  65  20  10  40\n",
      "4  68  91  53  66\n",
      "5  47  58  93  16\n",
      "     B   C   D\n",
      "A             \n",
      "10   5  53  13\n",
      "58  32  10  70\n",
      "35  26  57  28\n",
      "65  20  10  40\n",
      "68  91  53  66\n",
      "47  58  93  16\n"
     ]
    }
   ],
   "source": [
    "import pandas as pd\n",
    "import numpy as np\n",
    "df = pd.DataFrame(np.random.randint(1,100,size=(6,4)),columns=[\"A\",\"B\",\"C\",\"D\"])\n",
    "print(\"original dataframe\")\n",
    "print(df)\n",
    "df.set_index('A',inplace=True)\n",
    "print(df)\n"
   ]
  },
  {
   "cell_type": "code",
   "execution_count": 24,
   "metadata": {},
   "outputs": [
    {
     "name": "stdout",
     "output_type": "stream",
     "text": [
      "original dataframe\n",
      "    A   B   C\n",
      "X  94   9   1\n",
      "Y  13  19  18\n",
      "Z   6  16  96\n",
      "........... 19\n"
     ]
    }
   ],
   "source": [
    "df = pd.DataFrame(np.random.randint(1,100,size=(3,3)),columns=['A','B','C'],index=['X','Y','Z'])\n",
    "print(\"original dataframe\")\n",
    "print(df)\n",
    "element = df.at['Y','B']\n",
    "print(\"...........\",element)"
   ]
  },
  {
   "cell_type": "code",
   "execution_count": 4,
   "metadata": {},
   "outputs": [
    {
     "name": "stdout",
     "output_type": "stream",
     "text": [
      "Original data frame\n",
      "    A   B   C\n",
      "0  20  76  85\n",
      "1  77  72   9\n",
      "2  92  57  34\n",
      "3  53   2  81\n",
      "4  93  10  59\n",
      "with new column\n",
      "    A   B   C     D\n",
      "0  20  76  85  1520\n",
      "1  77  72   9  5544\n",
      "2  92  57  34  5244\n",
      "3  53   2  81   106\n",
      "4  93  10  59   930\n"
     ]
    }
   ],
   "source": [
    "import pandas as pd\n",
    "import numpy as np\n",
    "df = pd.DataFrame(np.random.randint(1,100,size=(5,3)),columns=[\"A\",\"B\",\"C\"])\n",
    "print(\"Original data frame\")\n",
    "print(df)\n",
    "df[\"D\"] = df[\"A\"] * df[\"B\"]\n",
    "print(\"with new column\")\n",
    "print(df)"
   ]
  },
  {
   "cell_type": "code",
   "execution_count": 8,
   "metadata": {},
   "outputs": [
    {
     "name": "stdout",
     "output_type": "stream",
     "text": [
      "this is original dataframe\n",
      "    A   B   C\n",
      "0  91  12  16\n",
      "1  55  99  50\n",
      "2  60  23  14\n",
      "3  39  52  61\n",
      "this is the sum of row \n",
      "0    119\n",
      "1    204\n",
      "2     97\n",
      "3    152\n",
      "dtype: int64\n",
      "this is the sum of columns\n",
      "A    245\n",
      "B    186\n",
      "C    141\n",
      "dtype: int64\n"
     ]
    }
   ],
   "source": [
    "df = pd.DataFrame(np.random.randint(1,100,size=(4,3)),columns=['A','B','C'])\n",
    "print(\"this is original dataframe\")\n",
    "print(df)\n",
    "row_sum = df.sum(axis=1)\n",
    "print(\"this is the sum of row \")\n",
    "print(row_sum)\n",
    "column_sum=df.sum(axis=0)\n",
    "print(\"this is the sum of columns\")\n",
    "print(column_sum)\n"
   ]
  },
  {
   "cell_type": "code",
   "execution_count": 89,
   "metadata": {},
   "outputs": [
    {
     "name": "stdout",
     "output_type": "stream",
     "text": [
      "this is original data frame\n",
      "    A   B   C\n",
      "0  23  68  88\n",
      "1  72   9  88\n",
      "2  61  80  86\n",
      "3  76  91   1\n",
      "4  32  73  90\n",
      "data frame with NaN value\n",
      "      A     B     C\n",
      "0  23.0   NaN  88.0\n",
      "1  72.0   9.0  88.0\n",
      "2  61.0  80.0   NaN\n",
      "3  76.0  91.0   1.0\n",
      "4   NaN  73.0  90.0\n",
      "dataframe with nan value filled\n",
      "      A      B      C\n",
      "0  23.0  63.25  88.00\n",
      "1  72.0   9.00  88.00\n",
      "2  61.0  80.00  66.75\n",
      "3  76.0  91.00   1.00\n",
      "4  58.0  73.00  90.00\n"
     ]
    }
   ],
   "source": [
    "df = pd.DataFrame(np.random.randint(1,99,size=(5,3)),columns=[\"A\",\"B\",\"C\"])\n",
    "print(\"this is original data frame\")\n",
    "print(df)\n",
    "df.iloc[0,1]=np.NaN\n",
    "df.iloc[2,2]=np.NaN\n",
    "df.iloc[4,0]=np.NaN\n",
    "print(\"data frame with NaN value\")\n",
    "print(df)\n",
    "df.fillna(df.mean(),inplace=True)\n",
    "print(\"dataframe with nan value filled\")\n",
    "print(df)"
   ]
  },
  {
   "cell_type": "code",
   "execution_count": 94,
   "metadata": {},
   "outputs": [
    {
     "name": "stdout",
     "output_type": "stream",
     "text": [
      "this is original dataframe\n",
      "    A   B   C   D\n",
      "0  97  35  52  89\n",
      "1  91  49  57   9\n",
      "2   2  38  36   7\n",
      "3   1  28  64  74\n",
      "4  19  99   7  11\n",
      "5  35  92  84  55\n",
      "this is dataframe with nan values\n",
      "      A     B     C   D\n",
      "0  97.0  35.0  52.0  89\n",
      "1  91.0  49.0   NaN   9\n",
      "2   2.0  38.0  36.0   7\n",
      "3   NaN  28.0  64.0  74\n",
      "4  19.0  99.0   7.0  11\n",
      "5  35.0   NaN  84.0  55\n",
      "this is the value after nan value dropped\n",
      "      A     B     C   D\n",
      "0  97.0  35.0  52.0  89\n",
      "2   2.0  38.0  36.0   7\n",
      "4  19.0  99.0   7.0  11\n"
     ]
    }
   ],
   "source": [
    "df = pd.DataFrame(np.random.randint(1,100,size=[6,4]),columns=[\"A\",\"B\",\"C\",\"D\"])\n",
    "print(\"this is original dataframe\")\n",
    "print(df)\n",
    "df.iloc[1,2]=np.nan\n",
    "df.iloc[3,0]=np.nan\n",
    "df.iloc[5,1]=np.nan\n",
    "print(\"this is dataframe with nan values\")\n",
    "print(df)\n",
    "df.dropna(inplace=True)\n",
    "print(\"this is the value after nan value dropped\")\n",
    "print(df)"
   ]
  },
  {
   "cell_type": "code",
   "execution_count": 155,
   "metadata": {},
   "outputs": [
    {
     "name": "stdout",
     "output_type": "stream",
     "text": [
      "This is original Dataframe\n",
      "  category  value\n",
      "0        A     80\n",
      "1        B      3\n",
      "2        B     24\n",
      "3        A     25\n",
      "4        A     65\n",
      "5        A     29\n",
      "6        A      7\n",
      "7        C     71\n",
      "8        C      1\n",
      "9        C     22\n",
      "Grouped Datafram\n",
      "          sum       mean\n",
      "category                \n",
      "A         206  41.200000\n",
      "B          27  13.500000\n",
      "C          94  31.333333\n"
     ]
    }
   ],
   "source": [
    "df = pd.DataFrame({\"category\":np.random.choice([\"A\",\"B\",\"C\"],size=10),\"value\":np.random.randint(1,100,size=[10])})\n",
    "print(\"This is original Dataframe\")\n",
    "print(df)\n",
    "grouped = df.groupby(\"category\")[\"value\"].agg([\"sum\",\"mean\"])\n",
    "print(\"Grouped Datafram\")\n",
    "print(grouped)"
   ]
  },
  {
   "cell_type": "code",
   "execution_count": 157,
   "metadata": {},
   "outputs": [
    {
     "name": "stdout",
     "output_type": "stream",
     "text": [
      "Original DataFrame:\n",
      "  Product Category  Sales\n",
      "0   Prod3        B     28\n",
      "1   Prod1        C     38\n",
      "2   Prod2        C     25\n",
      "3   Prod3        B     63\n",
      "4   Prod2        A     77\n",
      "5   Prod2        A     54\n",
      "6   Prod2        B     45\n",
      "7   Prod1        A     54\n",
      "8   Prod3        C     70\n",
      "9   Prod1        A     22\n",
      "Grouped DataFrame:\n",
      "Category\n",
      "A    207\n",
      "B    136\n",
      "C    133\n",
      "Name: Sales, dtype: int32\n"
     ]
    }
   ],
   "source": [
    "# Create a Pandas DataFrame with 3 columns: 'Product', 'Category', and 'Sales'\n",
    "df = pd.DataFrame({'Product': np.random.choice(['Prod1', 'Prod2', 'Prod3'], size=10), 'Category': np.random.choice(['A', 'B', 'C'], size=10), 'Sales': np.random.randint(1, 100, size=10)})\n",
    "print(\"Original DataFrame:\")\n",
    "print(df)\n",
    "\n",
    "# Group the DataFrame by 'Category' and compute the total sales for each category\n",
    "grouped = df.groupby('Category')['Sales'].sum()\n",
    "print(\"Grouped DataFrame:\")\n",
    "print(grouped)"
   ]
  },
  {
   "cell_type": "code",
   "execution_count": 1,
   "metadata": {},
   "outputs": [
    {
     "name": "stdout",
     "output_type": "stream",
     "text": [
      "DataFrame 1:\n",
      "  Key  Value1\n",
      "0   A      79\n",
      "1   B      36\n",
      "2   C       2\n",
      "3   D       9\n",
      "DataFrame 2:\n",
      "  Key  Value2\n",
      "0   A      75\n",
      "1   B      23\n",
      "2   C      37\n",
      "3   E      65\n",
      "Merged DataFrame:\n",
      "  Key  Value1  Value2\n",
      "0   A      79      75\n",
      "1   B      36      23\n",
      "2   C       2      37\n"
     ]
    }
   ],
   "source": [
    "# Create two Pandas DataFrames with a common column\n",
    "import pandas as pd\n",
    "import numpy as np\n",
    "df1 = pd.DataFrame({'Key': ['A', 'B', 'C', 'D'], 'Value1': np.random.randint(1, 100, size=4)})\n",
    "df2 = pd.DataFrame({'Key': ['A', 'B', 'C', 'E'], 'Value2': np.random.randint(1, 100, size=4)})\n",
    "print(\"DataFrame 1:\")\n",
    "print(df1)\n",
    "print(\"DataFrame 2:\")\n",
    "print(df2)\n",
    "\n",
    "# Merge the DataFrames using the common column\n",
    "merged = pd.merge(df1, df2, on='Key')\n",
    "print(\"Merged DataFrame:\")\n",
    "print(merged)"
   ]
  },
  {
   "cell_type": "code",
   "execution_count": 3,
   "metadata": {},
   "outputs": [
    {
     "name": "stdout",
     "output_type": "stream",
     "text": [
      "DataFrame 1:\n",
      "    A   B\n",
      "0  22  64\n",
      "1  50   5\n",
      "2  31  63\n",
      "DataFrame 2:\n",
      "    C   D\n",
      "0   4  80\n",
      "1  18  91\n",
      "2  41  27\n",
      "Concatenated DataFrame (rows):\n",
      "      A     B     C     D\n",
      "0  22.0  64.0   NaN   NaN\n",
      "1  50.0   5.0   NaN   NaN\n",
      "2  31.0  63.0   NaN   NaN\n",
      "0   NaN   NaN   4.0  80.0\n",
      "1   NaN   NaN  18.0  91.0\n",
      "2   NaN   NaN  41.0  27.0\n",
      "Concatenated DataFrame (columns):\n",
      "    A   B   C   D\n",
      "0  22  64   4  80\n",
      "1  50   5  18  91\n",
      "2  31  63  41  27\n"
     ]
    }
   ],
   "source": [
    "import pandas as pd\n",
    "import numpy as np\n",
    "df1 = pd.DataFrame({'A': np.random.randint(1, 100, size=3), 'B': np.random.randint(1, 100, size=3)})\n",
    "df2 = pd.DataFrame({'C': np.random.randint(1, 100, size=3), 'D': np.random.randint(1, 100, size=3)})\n",
    "print(\"DataFrame 1:\")\n",
    "print(df1)\n",
    "print(\"DataFrame 2:\")\n",
    "print(df2)\n",
    "\n",
    "# Concatenate the DataFrames along the rows\n",
    "concat_rows = pd.concat([df1, df2], axis=0)\n",
    "print(\"Concatenated DataFrame (rows):\")\n",
    "print(concat_rows)\n",
    "\n",
    "# Concatenate the DataFrames along the columns\n",
    "concat_columns = pd.concat([df1, df2], axis=1)\n",
    "print(\"Concatenated DataFrame (columns):\")\n",
    "print(concat_columns)"
   ]
  },
  {
   "cell_type": "code",
   "execution_count": null,
   "metadata": {},
   "outputs": [],
   "source": []
  }
 ],
 "metadata": {
  "kernelspec": {
   "display_name": "base",
   "language": "python",
   "name": "python3"
  },
  "language_info": {
   "codemirror_mode": {
    "name": "ipython",
    "version": 3
   },
   "file_extension": ".py",
   "mimetype": "text/x-python",
   "name": "python",
   "nbconvert_exporter": "python",
   "pygments_lexer": "ipython3",
   "version": "3.12.4"
  }
 },
 "nbformat": 4,
 "nbformat_minor": 2
}
