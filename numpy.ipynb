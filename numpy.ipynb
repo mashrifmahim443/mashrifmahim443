{
 "cells": [
  {
   "cell_type": "code",
   "execution_count": 10,
   "metadata": {},
   "outputs": [
    {
     "name": "stdout",
     "output_type": "stream",
     "text": [
      "original array\n",
      "[[ 2  4 17 13 20]\n",
      " [ 8  7 16 14 14]\n",
      " [19 11  9  7 13]\n",
      " [ 7 15  1  8 13]\n",
      " [20 11  9 19  9]]\n",
      "modified array\n",
      "[[ 2  4  1 13 20]\n",
      " [ 8  7  1 14 14]\n",
      " [19 11  1  7 13]\n",
      " [ 7 15  1  8 13]\n",
      " [20 11  1 19  9]]\n"
     ]
    }
   ],
   "source": [
    "import numpy as np\n",
    "array = np.random.randint(1,21,size =( 5,5))\n",
    "print(f\"original array\")\n",
    "print(array)\n",
    "\n",
    "#replace the 3 coloumn with 1 \n",
    "array[:,2]=1\n",
    "print(\"modified array\")\n",
    "print(array)\n"
   ]
  },
  {
   "cell_type": "code",
   "execution_count": 2,
   "metadata": {},
   "outputs": [
    {
     "name": "stdout",
     "output_type": "stream",
     "text": [
      "original array\n",
      "[[ 1  2  3  4]\n",
      " [ 5  6  7  8]\n",
      " [ 9 10 11 12]\n",
      " [13 14 15 16]]\n",
      "modified array\n",
      "[[ 0  2  3  4]\n",
      " [ 5  0  7  8]\n",
      " [ 9 10  0 12]\n",
      " [13 14 15  0]]\n"
     ]
    }
   ],
   "source": [
    "import numpy as np\n",
    "array = np.arange(1,17).reshape((4,4))\n",
    "print(\"original array\")\n",
    "print(array)\n",
    "\n",
    "#lets replace the array with 0\n",
    "\n",
    "np.fill_diagonal(array,0)\n",
    "print(\"modified array\")\n",
    "print(array)"
   ]
  },
  {
   "cell_type": "code",
   "execution_count": 3,
   "metadata": {},
   "outputs": [
    {
     "name": "stdout",
     "output_type": "stream",
     "text": [
      "original array\n",
      "[[ 1  2  3  4  5  6]\n",
      " [ 7  8  9 10 11 12]\n",
      " [13 14 15 16 17 18]\n",
      " [19 20 21 22 23 24]\n",
      " [25 26 27 28 29 30]\n",
      " [31 32 33 34 35 36]]\n",
      "modified array\n",
      "[[ 1  2  3  4  5  6]\n",
      " [ 7  8  9 10 11 12]\n",
      " [13 14 15 16 17 18]\n",
      " [19 20 21 22 23 24]\n",
      " [25 26 27 28 29 30]\n",
      " [31 32 33 34 35 36]]\n"
     ]
    }
   ],
   "source": [
    "import numpy as np\n",
    "array = np.arange(1,37).reshape((6,6))\n",
    "print(\"original array\")\n",
    "print(array)\n",
    "\n",
    "sub_array = array[2:5,1:5]\n",
    "print(\"modified array\")\n",
    "print(array)"
   ]
  },
  {
   "cell_type": "code",
   "execution_count": 10,
   "metadata": {},
   "outputs": [
    {
     "name": "stdout",
     "output_type": "stream",
     "text": [
      "original array\n",
      "[[19 18 16  1 12]\n",
      " [ 6 12 13  2 11]\n",
      " [ 6  7 10 13 15]\n",
      " [16  9 18  2 13]\n",
      " [ 5 15  9 20 11]]\n",
      "border elements\n",
      "[19 18 16  1 12  5 15  9 20 11  6  6 16 12  7  9]\n"
     ]
    }
   ],
   "source": [
    "array = np.random.randint(1,21,size=(5,5))\n",
    "print(\"original array\")\n",
    "print(array)\n",
    "\n",
    "border_element = np.concatenate((array[0,:],array[-1,:],array[1:-1,0],array[1:-1,1]))\n",
    "print(\"border elements\")\n",
    "print(border_element)"
   ]
  },
  {
   "cell_type": "code",
   "execution_count": 17,
   "metadata": {},
   "outputs": [
    {
     "name": "stdout",
     "output_type": "stream",
     "text": [
      "original 1st array\n",
      "[[ 1  8 10  6]\n",
      " [ 5  8  2  3]\n",
      " [ 3  6  2  2]]\n",
      "original 2nd array\n",
      "[[5 6 7 4]\n",
      " [7 9 1 5]\n",
      " [3 7 6 2]]\n",
      "[[ 6 14 17 10]\n",
      " [12 17  3  8]\n",
      " [ 6 13  8  4]]\n",
      "[[-4  2  3  2]\n",
      " [-2 -1  1 -2]\n",
      " [ 0 -1 -4  0]]\n",
      "[[ 5 48 70 24]\n",
      " [35 72  2 15]\n",
      " [ 9 42 12  4]]\n",
      "[[0.2        1.33333333 1.42857143 1.5       ]\n",
      " [0.71428571 0.88888889 2.         0.6       ]\n",
      " [1.         0.85714286 0.33333333 1.        ]]\n"
     ]
    }
   ],
   "source": [
    "array1 = np.random.randint(1,11,size=(3,4))\n",
    "array2 = np.random.randint(1,11,size=(3,4))\n",
    "print(\"original 1st array\")\n",
    "print(array1)\n",
    "print(\"original 2nd array\")\n",
    "print(array2)\n",
    "\n",
    "addition = array1 + array2\n",
    "print(addition)\n",
    "substraction = array1 - array2\n",
    "print(substraction)\n",
    "multiplication = array1 * array2\n",
    "print(multiplication)\n",
    "divition = array1 / array2\n",
    "print(divition)"
   ]
  },
  {
   "cell_type": "code",
   "execution_count": 18,
   "metadata": {},
   "outputs": [
    {
     "name": "stdout",
     "output_type": "stream",
     "text": [
      "original array\n",
      "[[ 8  5  9  3  4]\n",
      " [ 8 10  7  1  5]\n",
      " [ 2  2  6 10  1]\n",
      " [ 6  2  2  8  8]]\n",
      "[29 31 21 26]\n",
      "[24 19 24 22 18]\n"
     ]
    }
   ],
   "source": [
    "array = np.random.randint(1,11,size=(4,5))\n",
    "print(\"original array\")\n",
    "print(array)\n",
    "row_wise_sum = np.sum(array,axis=1)\n",
    "print(row_wise_sum)\n",
    "coloumn_wise_sum=np.sum(array,axis=0)\n",
    "print(coloumn_wise_sum)"
   ]
  },
  {
   "cell_type": "code",
   "execution_count": 23,
   "metadata": {},
   "outputs": [
    {
     "name": "stdout",
     "output_type": "stream",
     "text": [
      "original array\n",
      "[[10  5  6  7  8]\n",
      " [ 6  1  5  9  4]\n",
      " [ 8  5  8  1  6]\n",
      " [ 1  4  6 10  2]]\n",
      "mean 5.6\n",
      "median6.0\n",
      "std_dev2.764054992217051\n",
      "variamce7.640000000000001\n"
     ]
    }
   ],
   "source": [
    "array = np.random.randint(1,11,size=(4,5))\n",
    "print(\"original array\")\n",
    "print(array)\n",
    "\n",
    "mean = np.mean(array)\n",
    "median = np.median(array)\n",
    "std_dev = np.std(array)\n",
    "variance = np.var(array)\n",
    "\n",
    "print(f'mean {mean}')\n",
    "print(f\"median{median}\")\n",
    "print(f\"std_dev{std_dev}\")\n",
    "print(f'variamce{variance}')"
   ]
  },
  {
   "cell_type": "code",
   "execution_count": 25,
   "metadata": {},
   "outputs": [
    {
     "name": "stdout",
     "output_type": "stream",
     "text": [
      "Original array:\n",
      "[[1 2 3]\n",
      " [4 5 6]\n",
      " [7 8 9]]\n",
      "Normalized array:\n",
      "[[-1.54919334 -1.161895   -0.77459667]\n",
      " [-0.38729833  0.          0.38729833]\n",
      " [ 0.77459667  1.161895    1.54919334]]\n"
     ]
    }
   ],
   "source": [
    "array = np.arange(1, 10).reshape((3, 3))\n",
    "print(\"Original array:\")\n",
    "print(array)\n",
    "\n",
    "# Normalize the array\n",
    "mean = np.mean(array)\n",
    "std_dev = np.std(array)\n",
    "normalized_array = (array - mean) / std_dev\n",
    "\n",
    "print(\"Normalized array:\")\n",
    "print(normalized_array)"
   ]
  },
  {
   "cell_type": "code",
   "execution_count": 5,
   "metadata": {},
   "outputs": [
    {
     "name": "stdout",
     "output_type": "stream",
     "text": [
      "original array\n",
      "[[7 9 1]\n",
      " [1 7 8]\n",
      " [5 4 3]]\n",
      "1D array\n",
      "[ 8 10  9]\n",
      "[[15 19 10]\n",
      " [ 9 17 17]\n",
      " [13 14 12]]\n"
     ]
    }
   ],
   "source": [
    "import numpy as np\n",
    "array = np.random.randint(1,11,size=(3,3))\n",
    "row_array = np.random.randint(1,11,size=(3,))\n",
    "print(\"original array\")\n",
    "print(array)\n",
    "print(\"1D array\")\n",
    "print(row_array)\n",
    "result = array+row_array\n",
    "print(result)"
   ]
  },
  {
   "cell_type": "code",
   "execution_count": 7,
   "metadata": {},
   "outputs": [
    {
     "name": "stdout",
     "output_type": "stream",
     "text": [
      "original array\n",
      "[[ 4  1 10  3]\n",
      " [ 5  1  2  3]\n",
      " [ 4  8 10  7]\n",
      " [ 4  8  7  3]]\n",
      "[ 6  7  2 10]\n",
      "[[-2 -6  8 -7]\n",
      " [-1 -6  0 -7]\n",
      " [-2  1  8 -3]\n",
      " [-2  1  5 -7]]\n"
     ]
    }
   ],
   "source": [
    "array = np.random.randint(1,11,size=(4,4))\n",
    "row_array = np.random.randint(1,11,size=(4,))\n",
    "print(\"original array\")\n",
    "print(array)\n",
    "print(row_array)\n",
    "result = array - row_array\n",
    "print(result)"
   ]
  },
  {
   "cell_type": "code",
   "execution_count": 9,
   "metadata": {},
   "outputs": [
    {
     "name": "stdout",
     "output_type": "stream",
     "text": [
      "Original matrix:\n",
      "[[10  1 10]\n",
      " [ 2  6  3]\n",
      " [ 1  3  1]]\n",
      "Determinant: -29.000000000000018\n",
      "Inverse:\n",
      "[[ 0.10344828 -1.          1.96551724]\n",
      " [-0.03448276  0.          0.34482759]\n",
      " [-0.          1.         -2.        ]]\n",
      "Eigenvalues: [12.36054732  5.09952934 -0.46007666]\n"
     ]
    }
   ],
   "source": [
    "matrix = np.random.randint(1, 11, size=(3, 3))\n",
    "print(\"Original matrix:\")\n",
    "print(matrix)\n",
    "\n",
    "# Compute the determinant\n",
    "determinant = np.linalg.det(matrix)\n",
    "print(\"Determinant:\", determinant)\n",
    "\n",
    "# Compute the inverse\n",
    "inverse = np.linalg.inv(matrix)\n",
    "print(\"Inverse:\")\n",
    "print(inverse)\n",
    "\n",
    "# Compute the eigenvalues\n",
    "eigenvalues = np.linalg.eigvals(matrix)\n",
    "print(\"Eigenvalues:\", eigenvalues)"
   ]
  },
  {
   "cell_type": "code",
   "execution_count": 11,
   "metadata": {},
   "outputs": [
    {
     "name": "stdout",
     "output_type": "stream",
     "text": [
      "original array1\n",
      "[[ 4 10  8]\n",
      " [ 3  4  1]]\n",
      "original array2\n",
      "[[6 1]\n",
      " [3 6]\n",
      " [8 9]]\n",
      "[[118 136]\n",
      " [ 38  36]]\n"
     ]
    }
   ],
   "source": [
    "array1 = np.random.randint(1,11,size=(2,3))\n",
    "array2 = np.random.randint(1,11,size=(3,2))\n",
    "print(\"original array1\")\n",
    "print(array1)\n",
    "print(\"original array2\")\n",
    "print(array2)\n",
    "result = np.dot(array1,array2)\n",
    "print(result)"
   ]
  },
  {
   "cell_type": "code",
   "execution_count": 13,
   "metadata": {},
   "outputs": [
    {
     "name": "stdout",
     "output_type": "stream",
     "text": [
      "original array\n",
      "[[7 3 3]\n",
      " [5 6 4]\n",
      " [1 2 7]]\n",
      "[[7 3 3 5 6 4 1 2 7]]\n",
      "[[7]\n",
      " [3]\n",
      " [3]\n",
      " [5]\n",
      " [6]\n",
      " [4]\n",
      " [1]\n",
      " [2]\n",
      " [7]]\n"
     ]
    }
   ],
   "source": [
    "array1 = np.random.randint(1,9,size=(3,3))\n",
    "print(\"original array\")\n",
    "print(array1)\n",
    "array_reshape = array1.reshape(1,9)\n",
    "print(array_reshape)\n",
    "array_reshape2 = array_reshape.reshape(9,1)\n",
    "print(array_reshape2)"
   ]
  },
  {
   "cell_type": "code",
   "execution_count": 23,
   "metadata": {},
   "outputs": [
    {
     "name": "stdout",
     "output_type": "stream",
     "text": [
      "original array\n",
      "[[4 1 5 3 4]\n",
      " [3 6 2 2 8]\n",
      " [6 7 7 1 4]\n",
      " [8 5 6 3 1]\n",
      " [7 6 5 2 8]]\n",
      "[4 1 5 3 4 3 6 2 2 8 6 7 7 1 4 8 5 6 3 1 7 6 5 2 8]\n",
      "[[4 1 5 3 4]\n",
      " [3 6 2 2 8]\n",
      " [6 7 7 1 4]\n",
      " [8 5 6 3 1]\n",
      " [7 6 5 2 8]]\n"
     ]
    }
   ],
   "source": [
    "array = np.random.randint(1,9,size=(5,5))\n",
    "print(\"original array\")\n",
    "print(array)\n",
    "flatten_array = array.flatten()\n",
    "print(flatten_array)\n",
    "reshape_array = flatten_array.reshape((5,5))\n",
    "print(reshape_array)"
   ]
  },
  {
   "cell_type": "code",
   "execution_count": 28,
   "metadata": {},
   "outputs": [
    {
     "name": "stdout",
     "output_type": "stream",
     "text": [
      "original array\n",
      "[[ 5  6  7 13  3]\n",
      " [11 10  9 11 10]\n",
      " [16  7 20  1 13]\n",
      " [20 11  7  9 10]\n",
      " [ 6  4 10 14 19]]\n",
      "[ 5  3  6 19]\n"
     ]
    }
   ],
   "source": [
    "arrat = np.random.randint(1,21,size=(5,5))\n",
    "print(\"original array\")\n",
    "print(arrat)\n",
    "corners = arrat[[0,0,-1,-1],[0,-1,0,-1]]\n",
    "print(corners)"
   ]
  },
  {
   "cell_type": "code",
   "execution_count": 33,
   "metadata": {},
   "outputs": [
    {
     "name": "stdout",
     "output_type": "stream",
     "text": [
      "original array\n",
      "[[ 1 19  6  5  1]\n",
      " [17  6 15  1 19]\n",
      " [20  2 20 13 15]\n",
      " [19 11  6 12  9]\n",
      " [19 14 17  9  1]]\n",
      "[[ 1 10  6  5  1]\n",
      " [10  6 10  1 10]\n",
      " [10  2 10 10 10]\n",
      " [10 10  6 10  9]\n",
      " [10 10 10  9  1]]\n"
     ]
    }
   ],
   "source": [
    "array = np.random.randint(1,21,size=(5,5))\n",
    "print(\"original array\")\n",
    "print(array)\n",
    "array[array>10]=10\n",
    "print(array)"
   ]
  },
  {
   "cell_type": "code",
   "execution_count": null,
   "metadata": {},
   "outputs": [],
   "source": []
  }
 ],
 "metadata": {
  "kernelspec": {
   "display_name": "base",
   "language": "python",
   "name": "python3"
  },
  "language_info": {
   "codemirror_mode": {
    "name": "ipython",
    "version": 3
   },
   "file_extension": ".py",
   "mimetype": "text/x-python",
   "name": "python",
   "nbconvert_exporter": "python",
   "pygments_lexer": "ipython3",
   "version": "3.12.4"
  }
 },
 "nbformat": 4,
 "nbformat_minor": 2
}
