{
 "cells": [
  {
   "cell_type": "code",
   "execution_count": 35,
   "metadata": {},
   "outputs": [
    {
     "name": "stdout",
     "output_type": "stream",
     "text": [
      "55\n",
      "377\n"
     ]
    }
   ],
   "source": [
    "def fibonacci(n, memo={}):\n",
    "    if n in memo:\n",
    "        return memo[n]\n",
    "    if n<=1:\n",
    "        return n\n",
    "    memo[n] = fibonacci(n-1,memo) + fibonacci(n-2,memo)\n",
    "    return memo [n]\n",
    "print(fibonacci(10))\n",
    "print(fibonacci(14))"
   ]
  },
  {
   "cell_type": "code",
   "execution_count": 36,
   "metadata": {},
   "outputs": [
    {
     "name": "stdout",
     "output_type": "stream",
     "text": [
      "{2: 4}\n",
      "{1: 1, 3: 9}\n"
     ]
    }
   ],
   "source": [
    "def args(a, b=None):\n",
    "    if b is None:\n",
    "        b = {}\n",
    "    b[a] = a**2\n",
    "    return b\n",
    "print(args(2))\n",
    "print(args(3,{1:1}))"
   ]
  },
  {
   "cell_type": "code",
   "execution_count": 37,
   "metadata": {},
   "outputs": [
    {
     "name": "stdout",
     "output_type": "stream",
     "text": [
      "{'a': 1, 'c': 3}\n",
      "{'x': 10, 'z': 20}\n"
     ]
    }
   ],
   "source": [
    "def filter_integers(**kwargs):\n",
    "    return {k: v for k, v in kwargs.items() if isinstance(v, int)}\n",
    "\n",
    "# Test\n",
    "print(filter_integers(a=1, b='two', c=3, d=4.5))  # {'a': 1, 'c': 3}\n",
    "print(filter_integers(x=10, y='yes', z=20))  # {'x': 10, 'z': 20}"
   ]
  },
  {
   "cell_type": "code",
   "execution_count": 38,
   "metadata": {},
   "outputs": [
    {
     "name": "stdout",
     "output_type": "stream",
     "text": [
      "[1, 4, 9, 16]\n",
      "[2, 3, 4, 5]\n"
     ]
    }
   ],
   "source": [
    "def apply_callback(callback,lst):\n",
    "    return [callback(x) for x in lst]\n",
    "print(apply_callback(lambda x:x**2, [1,2,3,4]))\n",
    "print(apply_callback(lambda x:x+1,[1,2,3,4]))"
   ]
  },
  {
   "cell_type": "code",
   "execution_count": 39,
   "metadata": {},
   "outputs": [
    {
     "name": "stdout",
     "output_type": "stream",
     "text": [
      "16\n",
      "25\n"
     ]
    }
   ],
   "source": [
    "def outer_funct():\n",
    "    def inner_funct(x):\n",
    "        return x ** 2\n",
    "    return inner_funct\n",
    "\n",
    "squre = outer_funct()\n",
    "print(squre(4))\n",
    "print(squre(5))\n"
   ]
  },
  {
   "cell_type": "code",
   "execution_count": 40,
   "metadata": {},
   "outputs": [
    {
     "name": "stdout",
     "output_type": "stream",
     "text": [
      "functioncomplex_calculation took 0.0 seconds to execute\n",
      "332833500\n"
     ]
    }
   ],
   "source": [
    "import time\n",
    "def timer_decorator(func):\n",
    "    def wrapper(*args, **kwargs):\n",
    "        start_time = time.time()\n",
    "        result = func(*args, **kwargs)\n",
    "        end_time = time.time()\n",
    "        print(f\"function{func.__name__} took {end_time - start_time} seconds to execute\")\n",
    "        return result\n",
    "    return wrapper\n",
    "@timer_decorator\n",
    "def complex_calculation(n):\n",
    "    return sum(x**2 for x in range(n))\n",
    "print(complex_calculation(1000))"
   ]
  },
  {
   "cell_type": "code",
   "execution_count": 41,
   "metadata": {},
   "outputs": [
    {
     "name": "stdout",
     "output_type": "stream",
     "text": [
      "[4, 16]\n",
      "[4, 5, 6]\n"
     ]
    }
   ],
   "source": [
    "def filter_and_map(filter_func,map_func,lst):\n",
    "    return[map_func(x) for x in lst if filter_func(x)]\n",
    "print(filter_and_map(lambda x:x % 2 == 0, lambda x:x**2,[1,2,3,4,5]))\n",
    "print(filter_and_map(lambda x:x > 2, lambda x: x+1,[1,2,3,4,5]))"
   ]
  },
  {
   "cell_type": "code",
   "execution_count": 48,
   "metadata": {},
   "outputs": [
    {
     "name": "stdout",
     "output_type": "stream",
     "text": [
      "7\n",
      "11\n"
     ]
    }
   ],
   "source": [
    "def compose(f,g):\n",
    "    return lambda x: f(g(x))\n",
    "f = lambda x: x+1\n",
    "g = lambda x: x*2\n",
    "h = compose(f,g)\n",
    "print(h(3))\n",
    "print(h(5))"
   ]
  },
  {
   "cell_type": "code",
   "execution_count": 58,
   "metadata": {},
   "outputs": [
    {
     "name": "stdout",
     "output_type": "stream",
     "text": [
      "4\n",
      "6\n"
     ]
    }
   ],
   "source": [
    "from functools import partial\n",
    "multiply_by_2 = partial(lambda x,y:x*y,2)\n",
    "print(multiply_by_2(2))\n",
    "print(multiply_by_2(3))\n"
   ]
  },
  {
   "cell_type": "code",
   "execution_count": 9,
   "metadata": {},
   "outputs": [
    {
     "name": "stdout",
     "output_type": "stream",
     "text": [
      "3.0\n",
      "None\n"
     ]
    }
   ],
   "source": [
    "def average(lst):\n",
    "    try:\n",
    "        return sum(lst) / len(lst)\n",
    "    except ZeroDivisionError:\n",
    "        return None\n",
    "\n",
    "# Test\n",
    "print(average([1, 2, 3, 4, 5]))  # 3.0\n",
    "print(average([]))  # None"
   ]
  },
  {
   "cell_type": "code",
   "execution_count": 10,
   "metadata": {},
   "outputs": [
    {
     "name": "stdout",
     "output_type": "stream",
     "text": [
      "0\n",
      "1\n",
      "1\n",
      "2\n",
      "3\n",
      "5\n",
      "8\n",
      "13\n",
      "21\n",
      "34\n"
     ]
    }
   ],
   "source": [
    "def fibonacci_generator():\n",
    "    a, b = 0,1\n",
    "    while True:\n",
    "        yield a\n",
    "        a,b = b, a + b\n",
    "fib_gen = fibonacci_generator()\n",
    "for _ in range(10):\n",
    "    print(next(fib_gen))"
   ]
  },
  {
   "cell_type": "code",
   "execution_count": null,
   "metadata": {},
   "outputs": [],
   "source": []
  }
 ],
 "metadata": {
  "kernelspec": {
   "display_name": "base",
   "language": "python",
   "name": "python3"
  },
  "language_info": {
   "codemirror_mode": {
    "name": "ipython",
    "version": 3
   },
   "file_extension": ".py",
   "mimetype": "text/x-python",
   "name": "python",
   "nbconvert_exporter": "python",
   "pygments_lexer": "ipython3",
   "version": "3.12.4"
  }
 },
 "nbformat": 4,
 "nbformat_minor": 2
}
