{
 "cells": [
  {
   "cell_type": "code",
   "execution_count": 3,
   "metadata": {},
   "outputs": [
    {
     "name": "stdout",
     "output_type": "stream",
     "text": [
      "{1, 2, 3, 4, 5, 6, 7, 8, 9}\n"
     ]
    }
   ],
   "source": [
    "sts = set(range(1,10))\n",
    "print(sts)"
   ]
  },
  {
   "cell_type": "code",
   "execution_count": 8,
   "metadata": {},
   "outputs": [
    {
     "name": "stdout",
     "output_type": "stream",
     "text": [
      "{1, 2, 3, 4, 5, 6, 7, 8, 9}\n"
     ]
    }
   ],
   "source": [
    "sts.add(10)\n",
    "sts.remove(10)\n",
    "print(sts)\n"
   ]
  },
  {
   "cell_type": "code",
   "execution_count": 8,
   "metadata": {},
   "outputs": [
    {
     "name": "stdout",
     "output_type": "stream",
     "text": [
      "{1, 2, 3, 4, 5, 6, 8, 10} {2, 4} {1, 3, 5} {1, 3, 5, 6, 8, 10}\n"
     ]
    }
   ],
   "source": [
    "st1 = {1,2,3,4,5}\n",
    "st2 = {2,4,6,8,10}\n",
    "uni_set = st1.union(st2)\n",
    "ite_set = st1.intersection(st2)\n",
    "sem_set = st1.symmetric_difference(st2)\n",
    "sem_bet = st1.difference(st2)\n",
    "print(uni_set,ite_set,sem_bet,sem_set)"
   ]
  },
  {
   "cell_type": "code",
   "execution_count": 12,
   "metadata": {},
   "outputs": [
    {
     "name": "stdout",
     "output_type": "stream",
     "text": [
      "{64, 1, 4, 36, 100, 9, 16, 49, 81, 25}\n"
     ]
    }
   ],
   "source": [
    "sqr = {x**2 for x in range(1,11)}\n",
    "print(sqr)"
   ]
  },
  {
   "cell_type": "code",
   "execution_count": 27,
   "metadata": {},
   "outputs": [
    {
     "name": "stdout",
     "output_type": "stream",
     "text": [
      "{2, 4}\n"
     ]
    }
   ],
   "source": [
    "s = {1, 2, 2, 3, 4, 4, 5}\n",
    "st = {x for x in s if x%2 == 0}\n",
    "print(st)"
   ]
  },
  {
   "cell_type": "code",
   "execution_count": 28,
   "metadata": {},
   "outputs": [
    {
     "name": "stdout",
     "output_type": "stream",
     "text": [
      "{1, 2, 3, 4, 5, 6, 7, 8, 77}\n"
     ]
    }
   ],
   "source": [
    "st = {1,2,2,3,4,5,5,6,6,77,7,7,8}\n",
    "st1 = set(st)\n",
    "print(st1)"
   ]
  },
  {
   "cell_type": "code",
   "execution_count": 32,
   "metadata": {},
   "outputs": [
    {
     "name": "stdout",
     "output_type": "stream",
     "text": [
      "{False}\n",
      "{True}\n"
     ]
    }
   ],
   "source": [
    "st1 = {1,2,3,4,5,6,7}\n",
    "st2 = {1,2,3,4,5}\n",
    "print({st1.issubset(st2)})\n",
    "print({st1.issuperset(st2)})"
   ]
  },
  {
   "cell_type": "code",
   "execution_count": 33,
   "metadata": {},
   "outputs": [
    {
     "name": "stdout",
     "output_type": "stream",
     "text": [
      "frozenset({1, 2, 3, 4, 5})\n"
     ]
    }
   ],
   "source": [
    "fz = frozenset(range(1,6))\n",
    "print(fz)"
   ]
  },
  {
   "cell_type": "code",
   "execution_count": 38,
   "metadata": {},
   "outputs": [
    {
     "name": "stdout",
     "output_type": "stream",
     "text": [
      "{1, 2, 3, 4, 5, 6}\n"
     ]
    }
   ],
   "source": [
    "lst = list(range(1,6))\n",
    "lst.append(6)\n",
    "st1 = set(lst)\n",
    "print(st1)"
   ]
  },
  {
   "cell_type": "code",
   "execution_count": 40,
   "metadata": {},
   "outputs": [
    {
     "name": "stdout",
     "output_type": "stream",
     "text": [
      "{frozenset({1, 2}): 3, frozenset({3, 4}): 5, frozenset({5, 6}): 6}\n"
     ]
    }
   ],
   "source": [
    "disk = {\n",
    "    frozenset({1,2}):3,\n",
    "    frozenset({3,4}):5,\n",
    "    frozenset({5,6}):6\n",
    "}\n",
    "print(disk)"
   ]
  },
  {
   "cell_type": "code",
   "execution_count": 42,
   "metadata": {},
   "outputs": [
    {
     "name": "stdout",
     "output_type": "stream",
     "text": [
      "1\n",
      "2\n",
      "3\n",
      "4\n",
      "5\n",
      "6\n"
     ]
    }
   ],
   "source": [
    "for elem in st1:\n",
    "    print(elem)"
   ]
  },
  {
   "cell_type": "code",
   "execution_count": 43,
   "metadata": {},
   "outputs": [
    {
     "name": "stdout",
     "output_type": "stream",
     "text": [
      "{2, 3, 4, 5, 6}\n",
      "{3, 4, 5, 6}\n",
      "{4, 5, 6}\n",
      "{5, 6}\n",
      "{6}\n",
      "set()\n"
     ]
    }
   ],
   "source": [
    "while st1:\n",
    "    st1.pop()\n",
    "    print(st1)"
   ]
  },
  {
   "cell_type": "code",
   "execution_count": 44,
   "metadata": {},
   "outputs": [
    {
     "name": "stdout",
     "output_type": "stream",
     "text": [
      "{5}\n"
     ]
    }
   ],
   "source": [
    "st7 = set(range(1,5))\n",
    "st8 = set(range(1,8))\n",
    "print(st7.symmetric_difference(st2))"
   ]
  },
  {
   "cell_type": "code",
   "execution_count": 45,
   "metadata": {},
   "outputs": [
    {
     "name": "stdout",
     "output_type": "stream",
     "text": [
      "True\n",
      "False\n"
     ]
    }
   ],
   "source": [
    "print(3 in st7)\n",
    "print(6 in st7)"
   ]
  },
  {
   "cell_type": "code",
   "execution_count": 46,
   "metadata": {},
   "outputs": [
    {
     "name": "stdout",
     "output_type": "stream",
     "text": [
      "{(2, 3), (1, 2), (3, 4)}\n"
     ]
    }
   ],
   "source": [
    "s = {(1,2),(2,3),(3,4)}\n",
    "print(s)"
   ]
  }
 ],
 "metadata": {
  "kernelspec": {
   "display_name": "base",
   "language": "python",
   "name": "python3"
  },
  "language_info": {
   "codemirror_mode": {
    "name": "ipython",
    "version": 3
   },
   "file_extension": ".py",
   "mimetype": "text/x-python",
   "name": "python",
   "nbconvert_exporter": "python",
   "pygments_lexer": "ipython3",
   "version": "3.12.4"
  }
 },
 "nbformat": 4,
 "nbformat_minor": 2
}
