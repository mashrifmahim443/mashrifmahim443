{
 "cells": [
  {
   "cell_type": "code",
   "execution_count": 2,
   "metadata": {},
   "outputs": [
    {
     "name": "stdout",
     "output_type": "stream",
     "text": [
      "jacko craine jarman spepard\n"
     ]
    }
   ],
   "source": [
    "class Animal():\n",
    "    def __init__(self,name,specis):\n",
    "        self.name = name\n",
    "        self.specis = specis\n",
    "class Dog(Animal):\n",
    "    def  __init__(self,name,specis,bread):\n",
    "        super().__init__(name,specis)\n",
    "        self.bread = bread\n",
    "dog = Dog(\"jacko\",\"craine\",\"jarman spepard\")\n",
    "print(dog.name,dog.specis,dog.bread)\n"
   ]
  },
  {
   "cell_type": "code",
   "execution_count": 9,
   "metadata": {},
   "outputs": [
    {
     "name": "stdout",
     "output_type": "stream",
     "text": [
      "Dog(Name: Jacko,Specis: craine,Breed: jarman shepard)\n"
     ]
    }
   ],
   "source": [
    "class Dog(Animal):\n",
    "    def __init__(self,name,specis,breed):\n",
    "        super().__init__(name,specis)\n",
    "        self.breed = breed\n",
    "    def __str__(self):\n",
    "        return f\"Dog(Name: {self.name},Specis: {self.specis},Breed: {self.breed})\"\n",
    "dog = Dog(\"Jacko\",\"craine\",\"jarman shepard\")\n",
    "print(dog)\n"
   ]
  },
  {
   "cell_type": "code",
   "execution_count": 12,
   "metadata": {},
   "outputs": [
    {
     "name": "stdout",
     "output_type": "stream",
     "text": [
      "Bhook Bhook\n"
     ]
    }
   ],
   "source": [
    "class Dog(Animal):\n",
    "    def __init__(self,name,specis,bread):\n",
    "        super().__init__(name,specis)\n",
    "        self.specis = specis\n",
    "    def bark(self):\n",
    "        print(\"Bhook Bhook\")\n",
    "dog = Dog(\"jacko\",\"craine\",\"jarman shepard\")\n",
    "dog.bark()"
   ]
  },
  {
   "cell_type": "code",
   "execution_count": 16,
   "metadata": {},
   "outputs": [
    {
     "name": "stdout",
     "output_type": "stream",
     "text": [
      "Walking...........\n",
      "Running...........\n"
     ]
    }
   ],
   "source": [
    "class Walker():\n",
    "    def walk(self):\n",
    "        print(\"Walking...........\")\n",
    "class Runner():\n",
    "    def run(self):\n",
    "        print(\"Running...........\")\n",
    "class Athlete(Walker,Runner):\n",
    "    pass\n",
    "athlete = Athlete()\n",
    "athlete.walk()\n",
    "athlete.run()"
   ]
  },
  {
   "cell_type": "code",
   "execution_count": 18,
   "metadata": {},
   "outputs": [
    {
     "name": "stdout",
     "output_type": "stream",
     "text": [
      "Athlete walking.......\n",
      "Walking...........\n"
     ]
    }
   ],
   "source": [
    "class Athlete(Walker,Runner):\n",
    "    def walk(self):\n",
    "        print(\"Athlete walking.......\")\n",
    "        super().walk()\n",
    "athlete = Athlete()\n",
    "athlete.walk()\n"
   ]
  },
  {
   "cell_type": "code",
   "execution_count": 22,
   "metadata": {},
   "outputs": [
    {
     "name": "stdout",
     "output_type": "stream",
     "text": [
      "trainning for 5 hours\n"
     ]
    }
   ],
   "source": [
    "class Athlete(Walker,Runner):\n",
    "    def __init__(self,trainning_hours):\n",
    "        self.trainning_hours = trainning_hours\n",
    "    def train(self):\n",
    "        print(f\"trainning for {self.trainning_hours} hours\")\n",
    "athlete = Athlete(5)\n",
    "athlete.train()"
   ]
  },
  {
   "cell_type": "code",
   "execution_count": 24,
   "metadata": {},
   "outputs": [
    {
     "name": "stdout",
     "output_type": "stream",
     "text": [
      "B's show method\n"
     ]
    }
   ],
   "source": [
    "class A:\n",
    "    def show(self):\n",
    "        print(\"A's show method\")\n",
    "\n",
    "class B(A):\n",
    "    def show(self):\n",
    "        print(\"B's show method\")\n",
    "\n",
    "class C(A):\n",
    "    def show(self):\n",
    "        print(\"C's show method\")\n",
    "\n",
    "class D(B, C):\n",
    "    pass\n",
    "\n",
    "# Test\n",
    "d = D()\n",
    "d.show() "
   ]
  },
  {
   "cell_type": "code",
   "execution_count": 2,
   "metadata": {},
   "outputs": [
    {
     "name": "stdout",
     "output_type": "stream",
     "text": [
      "Red 5\n"
     ]
    }
   ],
   "source": [
    "class Shape:\n",
    "    def __init__(self,colour):\n",
    "        self.colour = colour\n",
    "class Circle(Shape):\n",
    "    def __init__(self,colour,radious):\n",
    "        super().__init__(colour)\n",
    "        self.radious = radious\n",
    "circle = Circle('Red',5)\n",
    "print(circle.colour,circle.radious)"
   ]
  },
  {
   "cell_type": "code",
   "execution_count": 4,
   "metadata": {},
   "outputs": [
    {
     "name": "stdout",
     "output_type": "stream",
     "text": [
      "Jhon M21\n"
     ]
    }
   ],
   "source": [
    "class Person:\n",
    "    def __init__(self,name):\n",
    "        self.name = name\n",
    "class Employee:\n",
    "    def __init__(self,employee_id):\n",
    "        self.employee_id = employee_id\n",
    "class Manager(Person,Employee):\n",
    "    def __init__(self,name,employee_id):\n",
    "        super().__init__(name)\n",
    "        Employee.__init__(self,employee_id)\n",
    "manager = Manager(\"Jhon\",\"M21\")\n",
    "print(manager.name,manager.employee_id)"
   ]
  },
  {
   "cell_type": "code",
   "execution_count": null,
   "metadata": {},
   "outputs": [],
   "source": []
  }
 ],
 "metadata": {
  "kernelspec": {
   "display_name": "base",
   "language": "python",
   "name": "python3"
  },
  "language_info": {
   "codemirror_mode": {
    "name": "ipython",
    "version": 3
   },
   "file_extension": ".py",
   "mimetype": "text/x-python",
   "name": "python",
   "nbconvert_exporter": "python",
   "pygments_lexer": "ipython3",
   "version": "3.12.4"
  }
 },
 "nbformat": 4,
 "nbformat_minor": 2
}
